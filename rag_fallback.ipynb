{
 "cells": [
  {
   "cell_type": "markdown",
   "id": "349758f6",
   "metadata": {},
   "source": [
    "### ** Only for testing \n",
    "#### UNDP SDG Research Assistant"
   ]
  },
  {
   "cell_type": "code",
   "execution_count": 9,
   "id": "4ff9ce7f",
   "metadata": {},
   "outputs": [
    {
     "name": "stdout",
     "output_type": "stream",
     "text": [
      "Using OpenAI GPT-4o-mini\n",
      "\n",
      "Q: Which SDG talks about reducing inequality?\n",
      "A: The Sustainable Development Goal (SDG) that talks about reducing inequality is Goal 10: Reduce inequality within and among countries.\n",
      "\n",
      "Q: What is the goal related to climate change?\n",
      "A: The goal related to climate change is Goal 13: Take urgent action to combat climate change and its impacts.\n",
      "\n",
      "Q: How does SDG address gender equality?\n",
      "A: Sustainable Development Goal 5 (SDG 5) specifically addresses gender equality and aims to achieve gender equality and empower all women and girls. Here are some key aspects of how SDG 5 addresses gender equality:\n",
      "\n",
      "1. **Elimination of Discrimination**: SDG 5 calls for the elimination of all forms of discrimination against women and girls everywhere, ensuring that they have equal rights and opportunities in all areas of life.\n",
      "\n",
      "2. **End Violence and Exploitation**: The goal emphasizes the need to end all forms of violence, exploitation, and harmful practices against women and girls, including trafficking and sexual and other types of violence.\n",
      "\n",
      "3. **Participation and Leadership**: SDG 5 promotes the full and effective participation of women in leadership at all levels of decision-making in political, economic, and public life, recognizing that women's voices and perspectives are crucial for sustainable development.\n",
      "\n",
      "4. **Access to Education and Health**: The goal advocates for equal access to quality education, healthcare, and social services for women and girls, which are essential for their empowerment and well-being.\n",
      "\n",
      "5. **Economic Empowerment**: SDG 5 encourages the adoption of policies and legislation that support gender equality in the workplace, including equal pay for equal work, access to economic resources, and support for women’s entrepreneurship.\n",
      "\n",
      "6. **Reproductive Rights**: The goal emphasizes the importance of ensuring universal access to sexual and reproductive health and rights, allowing women to make informed choices about their bodies and health.\n",
      "\n",
      "7. **Data and Monitoring**: SDG 5 highlights the need for the collection and analysis of gender-disaggregated data to inform policies and programs, ensuring that the specific needs and challenges faced by women and girls are addressed.\n",
      "\n",
      "By focusing on these areas, SDG 5 aims to create a more equitable and just society where women and girls can thrive, contributing to the overall achievement of sustainable development.\n"
     ]
    }
   ],
   "source": [
    "import os\n",
    "from dotenv import load_dotenv\n",
    "\n",
    "from langchain_community.document_loaders import TextLoader\n",
    "from langchain_community.vectorstores import Chroma\n",
    "from langchain_huggingface import HuggingFaceEmbeddings\n",
    "from langchain.prompts import PromptTemplate\n",
    "from langchain.chains import RetrievalQA\n",
    "\n",
    "load_dotenv()\n",
    "openai_key = os.getenv(\"OPENAI_API_KEY\")\n",
    "hf_token = os.getenv(\"HUGGINGFACEHUB_API_TOKEN\")\n",
    "\n",
    "loader = TextLoader(\"sdg_goals.txt\")\n",
    "docs = loader.load()\n",
    "\n",
    "embeddings = HuggingFaceEmbeddings(model_name=\"sentence-transformers/all-MiniLM-L6-v2\")\n",
    "db = Chroma.from_documents(docs, embeddings)\n",
    "retriever = db.as_retriever()\n",
    "\n",
    "prompt = PromptTemplate(\n",
    "    template=\"You are a UNDP research assistant. Context: {context}\\n\\nQuestion: {question}\\n\\nAnswer:\",\n",
    "    input_variables=[\"context\", \"question\"]\n",
    ")\n",
    "\n",
    "qa = None\n",
    "try:\n",
    "    from langchain.chat_models import init_chat_model\n",
    "    if openai_key:\n",
    "        llm = init_chat_model(\"gpt-4o-mini\", model_provider=\"openai\", temperature=0)\n",
    "        qa = RetrievalQA.from_chain_type(\n",
    "            llm=llm,\n",
    "            retriever=retriever,\n",
    "            chain_type_kwargs={\"prompt\": prompt}\n",
    "        )\n",
    "        #checking if credits are still available\n",
    "        _ = llm.invoke(\"ping\")\n",
    "        print(\"Using OpenAI GPT-4o-mini\")\n",
    "    else:\n",
    "        raise RuntimeError(\"OPENAI_API_KEY not set.\")\n",
    "except Exception as e:\n",
    "    print(\"OpenAI unavailable or credits exhausted. Falling back to Hugging Face...\")\n",
    "    from langchain_community.llms import HuggingFaceHub\n",
    "    llm = HuggingFaceHub(\n",
    "        repo_id=\"google/flan-t5-base\",\n",
    "        model_kwargs={\"temperature\": 0.1, \"max_length\": 256},\n",
    "        huggingfacehub_api_token=hf_token\n",
    "    )\n",
    "    qa = RetrievalQA.from_chain_type(\n",
    "        llm=llm,\n",
    "        retriever=retriever,\n",
    "        chain_type_kwargs={\"prompt\": prompt}\n",
    "    )\n",
    "    print(\"Using Hugging Face Flan-T5\")\n",
    "\n",
    "queries = [\n",
    "    \"Which SDG talks about reducing inequality?\",\n",
    "    \"What is the goal related to climate change?\",\n",
    "    \"How does SDG address gender equality?\"\n",
    "]\n",
    "\n",
    "for q in queries:\n",
    "    response = qa.invoke({\"query\": q})\n",
    "    print(f\"\\nQ: {q}\")\n",
    "    print(\"A:\", response[\"result\"])\n"
   ]
  },
  {
   "cell_type": "code",
   "execution_count": null,
   "id": "1a2a8d2e",
   "metadata": {},
   "outputs": [],
   "source": []
  },
  {
   "cell_type": "code",
   "execution_count": null,
   "id": "5bd365be",
   "metadata": {},
   "outputs": [],
   "source": []
  },
  {
   "cell_type": "code",
   "execution_count": null,
   "id": "f2bc3db4",
   "metadata": {},
   "outputs": [],
   "source": []
  }
 ],
 "metadata": {
  "kernelspec": {
   "display_name": "sdgEnv",
   "language": "python",
   "name": "python3"
  },
  "language_info": {
   "codemirror_mode": {
    "name": "ipython",
    "version": 3
   },
   "file_extension": ".py",
   "mimetype": "text/x-python",
   "name": "python",
   "nbconvert_exporter": "python",
   "pygments_lexer": "ipython3",
   "version": "3.12.4"
  }
 },
 "nbformat": 4,
 "nbformat_minor": 5
}
